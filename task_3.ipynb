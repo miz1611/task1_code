{
  "nbformat": 4,
  "nbformat_minor": 0,
  "metadata": {
    "colab": {
      "provenance": [],
      "authorship_tag": "ABX9TyN4UE/GFa1Adl8Zms18t7vw",
      "include_colab_link": true
    },
    "kernelspec": {
      "name": "python3",
      "display_name": "Python 3"
    },
    "language_info": {
      "name": "python"
    }
  },
  "cells": [
    {
      "cell_type": "markdown",
      "metadata": {
        "id": "view-in-github",
        "colab_type": "text"
      },
      "source": [
        "<a href=\"https://colab.research.google.com/github/miz1611/task1_code/blob/main/task_3.ipynb\" target=\"_parent\"><img src=\"https://colab.research.google.com/assets/colab-badge.svg\" alt=\"Open In Colab\"/></a>"
      ]
    },
    {
      "cell_type": "code",
      "execution_count": 3,
      "metadata": {
        "colab": {
          "base_uri": "https://localhost:8080/"
        },
        "id": "5MXpTHMZKssW",
        "outputId": "a8854ba3-d1a0-4dbb-e7c1-a5cd5059d9d7"
      },
      "outputs": [
        {
          "output_type": "stream",
          "name": "stdout",
          "text": [
            "Password Complexity Checker\n",
            "Enter a password to check: password@12345\n",
            "Password Strength: Medium\n",
            "Feedback:\n",
            "- Password should include at least one uppercase letter.\n"
          ]
        }
      ],
      "source": [
        "import re\n",
        "\n",
        "def check_password_strength(password):\n",
        "    length_error = len(password) < 8\n",
        "    digit_error = re.search(r\"\\d\", password) is None\n",
        "    uppercase_error = re.search(r\"[A-Z]\", password) is None\n",
        "    lowercase_error = re.search(r\"[a-z]\", password) is None\n",
        "    symbol_error = re.search(r\"[!@#$%^&*()\\-_=+\\[\\]{};:'\\\",.<>/?\\\\|]\", password) is None\n",
        "\n",
        "    errors = {\n",
        "        'length': not length_error,\n",
        "        'digit': not digit_error,\n",
        "        'uppercase': not uppercase_error,\n",
        "        'lowercase': not lowercase_error,\n",
        "        'symbol': not symbol_error\n",
        "    }\n",
        "\n",
        "    score = sum(errors.values())\n",
        "\n",
        "    if score == 5:\n",
        "        strength = \"Strong\"\n",
        "    elif score >= 3:\n",
        "        strength = \"Medium\"\n",
        "    else:\n",
        "        strength = \"Weak\"\n",
        "\n",
        "    feedback = []\n",
        "    if length_error:\n",
        "        feedback.append(\"Password should be at least 8 characters.\")\n",
        "    if digit_error:\n",
        "        feedback.append(\"Password should include at least one digit.\")\n",
        "    if uppercase_error:\n",
        "        feedback.append(\"Password should include at least one uppercase letter.\")\n",
        "    if lowercase_error:\n",
        "        feedback.append(\"Password should include at least one lowercase letter.\")\n",
        "    if symbol_error:\n",
        "        feedback.append(\"Password should include at least one special character.\")\n",
        "\n",
        "    return strength, feedback if feedback else [\"Your password is strong!\"]\n",
        "\n",
        "def main():\n",
        "    print(\"Password Complexity Checker\")\n",
        "    password = input(\"Enter a password to check: \")\n",
        "    strength, feedback = check_password_strength(password)\n",
        "    print(f\"Password Strength: {strength}\")\n",
        "    print(\"Feedback:\")\n",
        "    for item in feedback:\n",
        "        print(f\"- {item}\")\n",
        "\n",
        "if __name__ == \"__main__\":\n",
        "    main()"
      ]
    }
  ]
}