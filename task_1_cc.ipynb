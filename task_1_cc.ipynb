{
  "nbformat": 4,
  "nbformat_minor": 0,
  "metadata": {
    "colab": {
      "provenance": [],
      "authorship_tag": "ABX9TyMsqQV3Vp/gNWbre35X6Isz"
    },
    "kernelspec": {
      "name": "python3",
      "display_name": "Python 3"
    },
    "language_info": {
      "name": "python"
    }
  },
  "cells": [
    {
      "cell_type": "code",
      "execution_count": 3,
      "metadata": {
        "colab": {
          "base_uri": "https://localhost:8080/"
        },
        "id": "Saw-q1V0rWJD",
        "outputId": "4c193015-662a-4299-e2a1-900747847d98"
      },
      "outputs": [
        {
          "output_type": "stream",
          "name": "stdout",
          "text": [
            "Caesar Cipher Tool\n",
            "Type 'e' to encrypt or 'd' to decrypt: e \n",
            "Enter your message: this task is done\n",
            "Enter the shift value (integer): 3\n",
            "Encrypted message: wklv wdvn lv grqh\n"
          ]
        }
      ],
      "source": [
        "def encrypt(text, shift):\n",
        "    result = \"\"\n",
        "    for char in text:\n",
        "        if char.isalpha():\n",
        "            base = ord('A') if char.isupper() else ord('a')\n",
        "            # Shift character and wrap around alphabet\n",
        "            result += chr((ord(char) - base + shift) % 26 + base)\n",
        "        else:\n",
        "            result += char\n",
        "    return result\n",
        "\n",
        "def decrypt(text, shift):\n",
        "    return encrypt(text, -shift)\n",
        "\n",
        "def main():\n",
        "    print(\"Caesar Cipher Tool\")\n",
        "    choice = input(\"Type 'e' to encrypt or 'd' to decrypt: \").strip().lower()\n",
        "    message = input(\"Enter your message: \")\n",
        "    while True:\n",
        "        try:\n",
        "            shift = int(input(\"Enter the shift value (integer): \"))\n",
        "            break\n",
        "        except ValueError:\n",
        "            print(\"Invalid input. Please enter an integer for the shift value.\")\n",
        "\n",
        "    if choice == 'e':\n",
        "        encrypted = encrypt(message, shift)\n",
        "        print(\"Encrypted message:\", encrypted)\n",
        "    elif choice == 'd':\n",
        "        decrypted = decrypt(message, shift)\n",
        "        print(\"Decrypted message:\", decrypted)\n",
        "    else:\n",
        "        print(\"Invalid choice, please enter 'e' or 'd'.\")\n",
        "\n",
        "if __name__ == \"__main__\":\n",
        "    main()"
      ]
    }
  ]
}