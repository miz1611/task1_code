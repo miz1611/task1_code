{
  "nbformat": 4,
  "nbformat_minor": 0,
  "metadata": {
    "colab": {
      "provenance": [],
      "authorship_tag": "ABX9TyMsqQV3Vp/gNWbre35X6Isz",
      "include_colab_link": true
    },
    "kernelspec": {
      "name": "python3",
      "display_name": "Python 3"
    },
    "language_info": {
      "name": "python"
    }
  },
  "cells": [
    {
      "cell_type": "markdown",
      "metadata": {
        "id": "view-in-github",
        "colab_type": "text"
      },
      "source": [
        "<a href=\"https://colab.research.google.com/github/miz1611/task1_code/blob/main/task_1_cc.ipynb\" target=\"_parent\"><img src=\"https://colab.research.google.com/assets/colab-badge.svg\" alt=\"Open In Colab\"/></a>"
      ]
    },
    {
      "cell_type": "code",
      "execution_count": null,
      "metadata": {
        "colab": {
          "base_uri": "https://localhost:8080/"
        },
        "id": "Saw-q1V0rWJD",
        "outputId": "b2ad4ff1-cfe4-4762-9159-27de1f7f6dfb"
      },
      "outputs": [
        {
          "metadata": {
            "tags": null
          },
          "name": "stdout",
          "output_type": "stream",
          "text": [
            "Caesar Cipher Tool\n"
          ]
        }
      ],
      "source": [
        "def encrypt(text, shift):\n",
        "    result = \"\"\n",
        "    for char in text:\n",
        "        if char.isalpha():\n",
        "            base = ord('A') if char.isupper() else ord('a')\n",
        "            # Shift character and wrap around alphabet\n",
        "            result += chr((ord(char) - base + shift) % 26 + base)\n",
        "        else:\n",
        "            result += char\n",
        "    return result\n",
        "\n",
        "def decrypt(text, shift):\n",
        "    return encrypt(text, -shift)\n",
        "\n",
        "def main():\n",
        "    print(\"Caesar Cipher Tool\")\n",
        "    choice = input(\"Type 'e' to encrypt or 'd' to decrypt: \").strip().lower()\n",
        "    message = input(\"Enter your message: \")\n",
        "    while True:\n",
        "        try:\n",
        "            shift = int(input(\"Enter the shift value (integer): \"))\n",
        "            break\n",
        "        except ValueError:\n",
        "            print(\"Invalid input. Please enter an integer for the shift value.\")\n",
        "\n",
        "    if choice == 'e':\n",
        "        encrypted = encrypt(message, shift)\n",
        "        print(\"Encrypted message:\", encrypted)\n",
        "    elif choice == 'd':\n",
        "        decrypted = decrypt(message, shift)\n",
        "        print(\"Decrypted message:\", decrypted)\n",
        "    else:\n",
        "        print(\"Invalid choice, please enter 'e' or 'd'.\")\n",
        "\n",
        "if __name__ == \"__main__\":\n",
        "    main()"
      ]
    }
  ]
}